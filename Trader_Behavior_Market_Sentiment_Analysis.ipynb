{
  "nbformat": 4,
  "nbformat_minor": 0,
  "metadata": {
    "colab": {
      "provenance": []
    },
    "kernelspec": {
      "name": "python3",
      "display_name": "Python 3"
    },
    "language_info": {
      "name": "python"
    }
  },
  "cells": [
    {
      "cell_type": "code",
      "source": [
        "# ================================\n",
        "#  Web3 Trading Team DS Assignment\n",
        "#  Complete EDA + UBM Analysis\n",
        "#  Author: Luv Goel\n",
        "# ================================\n",
        "\n",
        "# --- Libraries ---\n",
        "import pandas as pd\n",
        "import numpy as np\n",
        "import matplotlib.pyplot as plt\n",
        "import seaborn as sns\n",
        "import os\n",
        "from matplotlib.backends.backend_pdf import PdfPages\n",
        "from datetime import datetime\n",
        "\n",
        "# --- Settings ---\n",
        "import seaborn as sns\n",
        "sns.set_style(\"whitegrid\")"
      ],
      "metadata": {
        "id": "ao-Sce4oKM3p"
      },
      "execution_count": 67,
      "outputs": []
    },
    {
      "cell_type": "code",
      "source": [
        "# === 1. Create Required Submission Structure ===\n",
        "root = \"ds_LuvGoel\"\n",
        "csv_folder = os.path.join(root, \"csv_files\")\n",
        "outputs_folder = os.path.join(root, \"outputs\")\n",
        "os.makedirs(csv_folder, exist_ok=True)\n",
        "os.makedirs(outputs_folder, exist_ok=True)"
      ],
      "metadata": {
        "id": "_2OkRthWMo5T"
      },
      "execution_count": 68,
      "outputs": []
    },
    {
      "cell_type": "code",
      "source": [
        "# Install and import necessary libraries\n",
        "!pip install -q gdown\n",
        "\n",
        "import gdown\n",
        "import pandas as pd\n",
        "\n",
        "# Google Drive file IDs\n",
        "fear_greed = '1ESUC2mftmOr1IXhQIKsLrDNurcwi7NRX'\n",
        "historical = '1uPGS5u5nNUEdgk0BvWqk3ze01nz-2mv_'\n",
        "\n",
        "# Build direct download URLs\n",
        "url1 = f'https://drive.google.com/uc?id={fear_greed}'\n",
        "url2 = f'https://drive.google.com/uc?id={historical}'\n",
        "\n",
        "# Local file paths\n",
        "output1 = 'fear_greed.csv'\n",
        "output2 = 'historical.csv'\n",
        "\n",
        "# Download CSV files\n",
        "gdown.download(url1, output1, quiet=False)\n",
        "gdown.download(url2, output2, quiet=False)\n",
        "\n",
        "# Load CSV files into DataFrames\n",
        "fear_greed_index = pd.read_csv(output1)\n",
        "historical_data = pd.read_csv(output2)\n",
        "\n",
        "# Preview the data\n",
        "print(fear_greed_index.head())\n",
        "print(historical_data.head())"
      ],
      "metadata": {
        "colab": {
          "base_uri": "https://localhost:8080/"
        },
        "id": "cjLYm4xM9O47",
        "outputId": "c9dcb14e-d79d-4ad2-f54f-0f92de7cbc8d"
      },
      "execution_count": 70,
      "outputs": [
        {
          "output_type": "stream",
          "name": "stderr",
          "text": [
            "Downloading...\n",
            "From: https://drive.google.com/uc?id=1ESUC2mftmOr1IXhQIKsLrDNurcwi7NRX\n",
            "To: /content/fear_greed.csv\n",
            "100%|██████████| 90.8k/90.8k [00:00<00:00, 51.4MB/s]\n",
            "Downloading...\n",
            "From: https://drive.google.com/uc?id=1uPGS5u5nNUEdgk0BvWqk3ze01nz-2mv_\n",
            "To: /content/historical.csv\n",
            "100%|██████████| 47.5M/47.5M [00:00<00:00, 134MB/s]\n"
          ]
        },
        {
          "output_type": "stream",
          "name": "stdout",
          "text": [
            "    timestamp  value classification        date\n",
            "0  1517463000     30           Fear  2018-02-01\n",
            "1  1517549400     15   Extreme Fear  2018-02-02\n",
            "2  1517635800     40           Fear  2018-02-03\n",
            "3  1517722200     24   Extreme Fear  2018-02-04\n",
            "4  1517808600     11   Extreme Fear  2018-02-05\n",
            "                                      Account  Coin  Execution Price  \\\n",
            "0  0xae5eacaf9c6b9111fd53034a602c192a04e082ed  @107           7.9769   \n",
            "1  0xae5eacaf9c6b9111fd53034a602c192a04e082ed  @107           7.9800   \n",
            "2  0xae5eacaf9c6b9111fd53034a602c192a04e082ed  @107           7.9855   \n",
            "3  0xae5eacaf9c6b9111fd53034a602c192a04e082ed  @107           7.9874   \n",
            "4  0xae5eacaf9c6b9111fd53034a602c192a04e082ed  @107           7.9894   \n",
            "\n",
            "   Size Tokens  Size USD Side     Timestamp IST  Start Position Direction  \\\n",
            "0       986.87   7872.16  BUY  02-12-2024 22:50        0.000000       Buy   \n",
            "1        16.00    127.68  BUY  02-12-2024 22:50      986.524596       Buy   \n",
            "2       144.09   1150.63  BUY  02-12-2024 22:50     1002.518996       Buy   \n",
            "3       142.98   1142.04  BUY  02-12-2024 22:50     1146.558564       Buy   \n",
            "4         8.73     69.75  BUY  02-12-2024 22:50     1289.488521       Buy   \n",
            "\n",
            "   Closed PnL                                   Transaction Hash     Order ID  \\\n",
            "0         0.0  0xec09451986a1874e3a980418412fcd0201f500c95bac...  52017706630   \n",
            "1         0.0  0xec09451986a1874e3a980418412fcd0201f500c95bac...  52017706630   \n",
            "2         0.0  0xec09451986a1874e3a980418412fcd0201f500c95bac...  52017706630   \n",
            "3         0.0  0xec09451986a1874e3a980418412fcd0201f500c95bac...  52017706630   \n",
            "4         0.0  0xec09451986a1874e3a980418412fcd0201f500c95bac...  52017706630   \n",
            "\n",
            "   Crossed       Fee      Trade ID     Timestamp  \n",
            "0     True  0.345404  8.950000e+14  1.730000e+12  \n",
            "1     True  0.005600  4.430000e+14  1.730000e+12  \n",
            "2     True  0.050431  6.600000e+14  1.730000e+12  \n",
            "3     True  0.050043  1.080000e+15  1.730000e+12  \n",
            "4     True  0.003055  1.050000e+15  1.730000e+12  \n"
          ]
        }
      ]
    },
    {
      "cell_type": "code",
      "source": [
        " # === 3. Data Cleaning ===\n",
        "# Convert timestamps (historical_data) -> dayfirst to avoid ValueError\n",
        "historical_data['Timestamp'] = pd.to_datetime(\n",
        "    historical_data['Timestamp IST'],\n",
        "    format=\"%d-%m-%Y %H:%M\",\n",
        "    errors='coerce'\n",
        ")"
      ],
      "metadata": {
        "id": "VDmtjG-cN7KA"
      },
      "execution_count": 71,
      "outputs": []
    },
    {
      "cell_type": "code",
      "source": [
        "# Convert timestamps (fear_greed_index)\n",
        "fear_greed_index['timestamp'] = pd.to_datetime(\n",
        "    fear_greed_index['timestamp'],\n",
        "    unit='s',\n",
        "    errors='coerce'\n",
        ")"
      ],
      "metadata": {
        "id": "sjAoG3myN_qB"
      },
      "execution_count": 72,
      "outputs": []
    },
    {
      "cell_type": "code",
      "source": [
        "# Merge nearest by timestamp\n",
        "merged_data = pd.merge_asof(\n",
        "    historical_data.sort_values('Timestamp'),\n",
        "    fear_greed_index.sort_values('timestamp'),\n",
        "    left_on='Timestamp',\n",
        "    right_on='timestamp',\n",
        "    direction='nearest'\n",
        ")"
      ],
      "metadata": {
        "id": "35lSconVOCYQ"
      },
      "execution_count": 73,
      "outputs": []
    },
    {
      "cell_type": "code",
      "source": [
        "# Save merged CSV\n",
        "merged_csv_path = os.path.join(csv_folder, \"merged_data.csv\")\n",
        "merged_data.to_csv(merged_csv_path, index=False)"
      ],
      "metadata": {
        "id": "jx4bTOekOFKQ"
      },
      "execution_count": 74,
      "outputs": []
    },
    {
      "cell_type": "code",
      "source": [
        "# === 4. Feature Engineering ===\n",
        "merged_data[\"Date\"] = merged_data[\"Timestamp\"].dt.date\n",
        "merged_data[\"abs_Size_USD\"] = merged_data[\"Size USD\"].abs()\n",
        "merged_data[\"pnl_positive\"] = (merged_data[\"Closed PnL\"] > 0).astype(int)\n",
        "merged_data[\"hour\"] = merged_data[\"Timestamp\"].dt.hour"
      ],
      "metadata": {
        "id": "_ntk0K1qOHWg"
      },
      "execution_count": 75,
      "outputs": []
    },
    {
      "cell_type": "code",
      "source": [
        "# Daily aggregates\n",
        "daily_df = merged_data.groupby(\"Date\").agg(\n",
        "    total_volume_USD=(\"abs_Size_USD\", \"sum\"),\n",
        "    mean_sentiment=(\"value\", \"mean\"),\n",
        "    avg_pnl=(\"Closed PnL\", \"mean\"),\n",
        "    win_rate=(\"pnl_positive\", \"mean\")\n",
        ").reset_index()"
      ],
      "metadata": {
        "id": "wLfUWnJYVPmH"
      },
      "execution_count": 76,
      "outputs": []
    },
    {
      "cell_type": "code",
      "source": [
        "# Save daily aggregates\n",
        "daily_csv_path = os.path.join(csv_folder, \"daily_aggregates.csv\")\n",
        "daily_df.to_csv(daily_csv_path, index=False)"
      ],
      "metadata": {
        "id": "x3HGSxSzVRR4"
      },
      "execution_count": 77,
      "outputs": []
    },
    {
      "cell_type": "code",
      "source": [
        "# === 5. UBM Analysis & Charts (15+) ===\n",
        "fig_paths = []\n",
        "\n",
        "def save_fig(name):\n",
        "    path = os.path.join(outputs_folder, name)\n",
        "    plt.tight_layout()\n",
        "    plt.savefig(path)\n",
        "    plt.close()\n",
        "    fig_paths.append(path)"
      ],
      "metadata": {
        "id": "2kTqL3HxOMew"
      },
      "execution_count": 78,
      "outputs": []
    },
    {
      "cell_type": "code",
      "source": [
        "# 1. Univariate - PnL distribution\n",
        "plt.figure(figsize=(8,5))\n",
        "sns.histplot(merged_data['Closed PnL'], bins=30, kde=True)\n",
        "plt.title(\"Distribution of Closed PnL\")\n",
        "save_fig(\"01_closed_pnl_distribution.png\")"
      ],
      "metadata": {
        "id": "76ANqQAgOQsQ"
      },
      "execution_count": 79,
      "outputs": []
    },
    {
      "cell_type": "code",
      "source": [
        "# 2. Univariate - Trade Size USD\n",
        "plt.figure(figsize=(8,5))\n",
        "sns.histplot(merged_data['abs_Size_USD'], bins=30, kde=True)\n",
        "plt.title(\"Distribution of Trade Size (USD)\")\n",
        "save_fig(\"02_trade_size_distribution.png\")"
      ],
      "metadata": {
        "id": "wzK1kbkoOTyQ"
      },
      "execution_count": 80,
      "outputs": []
    },
    {
      "cell_type": "code",
      "source": [
        "# 3. Univariate - Sentiment value\n",
        "plt.figure(figsize=(8,5))\n",
        "sns.histplot(merged_data['value'], bins=20, kde=True)\n",
        "plt.title(\"Distribution of Fear & Greed Index Value\")\n",
        "save_fig(\"03_sentiment_value_distribution.png\")"
      ],
      "metadata": {
        "id": "wREOtMDSPOo_"
      },
      "execution_count": 81,
      "outputs": []
    },
    {
      "cell_type": "code",
      "source": [
        "# 4. Bivariate - PnL by Sentiment Class\n",
        "plt.figure(figsize=(10,6))\n",
        "sns.boxplot(x='classification', y='Closed PnL', data=merged_data)\n",
        "plt.xticks(rotation=45)\n",
        "plt.title(\"Closed PnL by Sentiment Classification\")\n",
        "save_fig(\"04_pnl_by_sentiment_class.png\")"
      ],
      "metadata": {
        "id": "HT0hum3aVeno"
      },
      "execution_count": 82,
      "outputs": []
    },
    {
      "cell_type": "code",
      "source": [
        "# 5. Bivariate - Trade Size vs Sentiment Value\n",
        "plt.figure(figsize=(8,5))\n",
        "sns.scatterplot(x='value', y='abs_Size_USD', data=merged_data)\n",
        "plt.title(\"Trade Size vs Sentiment Value\")\n",
        "save_fig(\"05_trade_size_vs_sentiment.png\")"
      ],
      "metadata": {
        "id": "lvS-0swIWts9"
      },
      "execution_count": 83,
      "outputs": []
    },
    {
      "cell_type": "code",
      "source": [
        "# 6. Bivariate - PnL vs Sentiment Value\n",
        "plt.figure(figsize=(8,5))\n",
        "sns.scatterplot(x='value', y='Closed PnL', data=merged_data)\n",
        "plt.title(\"Closed PnL vs Sentiment Value\")\n",
        "save_fig(\"06_pnl_vs_sentiment.png\")"
      ],
      "metadata": {
        "id": "Uqc3pBabWvhn"
      },
      "execution_count": 84,
      "outputs": []
    },
    {
      "cell_type": "code",
      "source": [
        "# 7. Bivariate - Win Rate by Sentiment\n",
        "winrate = merged_data.groupby(\"classification\")[\"pnl_positive\"].mean().sort_values()\n",
        "plt.figure(figsize=(10,5))\n",
        "sns.barplot(x=winrate.index, y=winrate.values)\n",
        "plt.xticks(rotation=45)\n",
        "plt.title(\"Win Rate by Sentiment Classification\")\n",
        "save_fig(\"07_winrate_by_sentiment.png\")"
      ],
      "metadata": {
        "id": "m_qKVuA0WxKV"
      },
      "execution_count": 85,
      "outputs": []
    },
    {
      "cell_type": "code",
      "source": [
        "# 8. Time Series - Daily Volume\n",
        "plt.figure(figsize=(10,5))\n",
        "sns.lineplot(x='Date', y='total_volume_USD', data=daily_df)\n",
        "plt.xticks(rotation=45)\n",
        "plt.title(\"Daily Total Volume (USD)\")\n",
        "save_fig(\"08_daily_volume.png\")"
      ],
      "metadata": {
        "id": "GesgTZESWyx1"
      },
      "execution_count": 86,
      "outputs": []
    },
    {
      "cell_type": "code",
      "source": [
        "# 9. Time Series - Mean Sentiment\n",
        "plt.figure(figsize=(10,5))\n",
        "sns.lineplot(x='Date', y='mean_sentiment', data=daily_df)\n",
        "plt.xticks(rotation=45)\n",
        "plt.title(\"Daily Mean Sentiment Value\")\n",
        "save_fig(\"09_daily_mean_sentiment.png\")"
      ],
      "metadata": {
        "id": "lmZEWfmUW0T0"
      },
      "execution_count": 87,
      "outputs": []
    },
    {
      "cell_type": "code",
      "source": [
        "# 10. Multivariate - Daily Avg PnL vs Sentiment (size=volume)\n",
        "plt.figure(figsize=(8,5))\n",
        "sns.scatterplot(\n",
        "    x='mean_sentiment', y='avg_pnl', size='total_volume_USD',\n",
        "    data=daily_df, legend=False, sizes=(20, 200)\n",
        ")\n",
        "plt.title(\"Avg PnL vs Mean Sentiment (size=Volume)\")\n",
        "save_fig(\"10_avg_pnl_vs_sentiment.png\")"
      ],
      "metadata": {
        "id": "cs0-xoKqW22l"
      },
      "execution_count": 88,
      "outputs": []
    },
    {
      "cell_type": "code",
      "source": [
        "# 11. Univariate - BUY vs SELL count\n",
        "plt.figure(figsize=(6,4))\n",
        "sns.countplot(x='Side', data=merged_data)\n",
        "plt.title(\"Count of BUY vs SELL Trades\")\n",
        "save_fig(\"11_buy_sell_counts.png\")"
      ],
      "metadata": {
        "id": "s2GDy0cOW4pk"
      },
      "execution_count": 89,
      "outputs": []
    },
    {
      "cell_type": "code",
      "source": [
        "# 12. Bivariate - Avg PnL by Hour\n",
        "plt.figure(figsize=(8,5))\n",
        "sns.lineplot(x='hour', y='Closed PnL', data=merged_data, estimator='mean')\n",
        "plt.title(\"Average PnL by Hour of Day\")\n",
        "save_fig(\"12_avg_pnl_by_hour.png\")"
      ],
      "metadata": {
        "id": "P59Aj3JuW5yU"
      },
      "execution_count": 90,
      "outputs": []
    },
    {
      "cell_type": "code",
      "source": [
        "# 13. Correlation Heatmap\n",
        "plt.figure(figsize=(10,8))\n",
        "corr = merged_data.select_dtypes(include=[np.number]).corr()\n",
        "sns.heatmap(corr, annot=False, cmap='coolwarm')\n",
        "plt.title(\"Correlation Heatmap\")\n",
        "save_fig(\"13_correlation_heatmap.png\")"
      ],
      "metadata": {
        "id": "jP2wTiCyW6_0"
      },
      "execution_count": 91,
      "outputs": []
    },
    {
      "cell_type": "code",
      "source": [
        "# 14. Multivariate - PnL by Side and Sentiment\n",
        "plt.figure(figsize=(10,6))\n",
        "sns.boxplot(x='classification', y='Closed PnL', hue='Side', data=merged_data)\n",
        "plt.xticks(rotation=45)\n",
        "plt.title(\"PnL by Sentiment & Trade Side\")\n",
        "save_fig(\"14_pnl_by_side_and_sentiment.png\")"
      ],
      "metadata": {
        "id": "bwV_rbaGW8fU"
      },
      "execution_count": 92,
      "outputs": []
    },
    {
      "cell_type": "code",
      "source": [
        "# 15. Multivariate - Volume vs PnL vs Sentiment\n",
        "plt.figure(figsize=(8,5))\n",
        "sns.scatterplot(\n",
        "    x='abs_Size_USD', y='Closed PnL', hue='value',\n",
        "    data=merged_data, palette='coolwarm', alpha=0.7\n",
        ")\n",
        "plt.title(\"Trade Size vs PnL (color=Sentiment)\")\n",
        "save_fig(\"15_volume_vs_pnl_sentiment.png\")"
      ],
      "metadata": {
        "id": "fcsDtAikXCnU"
      },
      "execution_count": 93,
      "outputs": []
    },
    {
      "cell_type": "code",
      "source": [
        "# === 6. PDF Report ===\n",
        "from textwrap import wrap\n",
        "\n",
        "pdf_path = os.path.join(root, \"ds_report.pdf\")\n",
        "with PdfPages(pdf_path) as pdf:\n",
        "    # Title page\n",
        "    plt.figure(figsize=(11,8.5))\n",
        "    plt.axis('off')\n",
        "    plt.text(0.5, 0.7, \"Web3 Trading Team - Data Science Assignment\", ha='center', fontsize=20)\n",
        "    plt.text(0.5, 0.6, \"Candidate: LUV GOEL\", ha='center', fontsize=14)\n",
        "    plt.text(0.5, 0.5, f\"Generated on: {datetime.now()}\", ha='center', fontsize=10)\n",
        "    pdf.savefig()\n",
        "    plt.close()\n",
        "\n",
        "    # Observations & Insights - Page 1\n",
        "    plt.figure(figsize=(11,8.5))\n",
        "    plt.axis('off')\n",
        "    obs_page1 = \"\"\"\n",
        "Observations & Insights\n",
        "\n",
        "1. Trade Size & PnL Patterns (Univariate)\n",
        "- Closed PnL distribution is heavily skewed with most trades near zero profit/loss, a small number showing very high gains or losses.\n",
        "- Trade sizes (USD) vary widely, but most are clustered in the lower range — indicating many small trades and fewer large-volume positions.\n",
        "- Fear & Greed Index values are well-distributed, with clear clusters around extreme fear and extreme greed.\n",
        "\n",
        "2. Sentiment vs Profitability (Bivariate)\n",
        "- Boxplots show PnL performance differs across sentiment regimes — extreme greed days often have higher variability in profits, while extreme fear days tend to see tighter, sometimes negative distributions.\n",
        "- Scatter plots suggest no strong linear correlation between sentiment index value and PnL, but clusters of positive PnL occur in both high and low sentiment ranges.\n",
        "\"\"\"\n",
        "    wrapped_lines = []\n",
        "    for line in obs_page1.strip().split(\"\\n\"):\n",
        "        wrapped_lines.extend(wrap(line, 120))\n",
        "    plt.text(0.05, 0.95, \"\\n\".join(wrapped_lines), fontsize=10, va='top')\n",
        "    pdf.savefig()\n",
        "    plt.close()\n",
        "\n",
        "    # Observations & Insights - Page 2\n",
        "    plt.figure(figsize=(11,8.5))\n",
        "    plt.axis('off')\n",
        "    obs_page2 = \"\"\"\n",
        "3. Win Rate Insights\n",
        "- Win rate varies noticeably across sentiment categories — some sentiment states correspond to higher proportions of profitable trades.\n",
        "- This indicates sentiment awareness could help in position sizing or entry timing.\n",
        "\n",
        "4. Time-based Observations\n",
        "- Daily volume fluctuates, with spikes not directly explained by sentiment shifts — possibly due to market news or events.\n",
        "- Hourly patterns show certain hours have consistently higher average PnL, potentially linked to global market opening/closing times.\n",
        "\n",
        "5. Multivariate Patterns\n",
        "- Comparing PnL vs sentiment and trade side (BUY/SELL) suggests sentiment effects are slightly stronger for BUY trades.\n",
        "- Correlation heatmap confirms trade size and PnL have a weak positive correlation, while sentiment’s correlation with PnL is close to zero — meaning sentiment alone isn’t predictive but may work well in combination with other factors.\n",
        "\n",
        "---\n",
        "\n",
        "Business Impact\n",
        "1. Strategy Timing: Align larger positions with historically high win-rate sentiment states.\n",
        "2. Risk Management: Reduce exposure during low win-rate sentiment regimes.\n",
        "3. Trading Hours: Focus on hours with historically higher profitability.\n",
        "4. Predictive Modeling: Since sentiment isn’t linearly related to PnL, use it with other features (trade size, side, hour) in more complex models for better predictions.\n",
        "\"\"\"\n",
        "    wrapped_lines = []\n",
        "    for line in obs_page2.strip().split(\"\\n\"):\n",
        "        wrapped_lines.extend(wrap(line, 120))\n",
        "    plt.text(0.05, 0.95, \"\\n\".join(wrapped_lines), fontsize=10, va='top')\n",
        "    pdf.savefig()\n",
        "    plt.close()\n",
        "\n",
        "    # Add each chart\n",
        "    for fp in fig_paths:\n",
        "        img = plt.imread(fp)\n",
        "        plt.figure(figsize=(11,8.5))\n",
        "        plt.imshow(img)\n",
        "        plt.axis('off')\n",
        "        pdf.savefig()\n",
        "        plt.close()"
      ],
      "metadata": {
        "id": "NwIk19NUXEGk"
      },
      "execution_count": 94,
      "outputs": []
    },
    {
      "cell_type": "code",
      "source": [
        "# === 7. README File ===\n",
        "with open(os.path.join(root, \"README.md\"), \"w\") as f:\n",
        "    f.write(\n",
        "        f\"Submission Structure:\\n\"\n",
        "        f\"- csv_files/: merged_data.csv, daily_aggregates.csv\\n\"\n",
        "        f\"- outputs/: {len(fig_paths)} PNG charts\\n\"\n",
        "        f\"- ds_report.pdf: PDF with Observations & Insights + charts\\n\"\n",
        "        f\"All analysis done using Python, Pandas, Matplotlib, Seaborn.\"\n",
        "    )\n",
        "\n",
        "print(f\"Assignment package created at: {root}\")\n",
        "print(f\"- Merged CSV: {merged_csv_path}\")\n",
        "print(f\"- Daily Aggregates CSV: {daily_csv_path}\")\n",
        "print(f\"- PDF Report: {pdf_path}\")\n",
        "print(f\"- Charts saved in: {outputs_folder}\")"
      ],
      "metadata": {
        "colab": {
          "base_uri": "https://localhost:8080/"
        },
        "id": "7KFLx6DoXHnk",
        "outputId": "ac2178b8-f37c-416f-f9f2-34f3c54f6326"
      },
      "execution_count": 95,
      "outputs": [
        {
          "output_type": "stream",
          "name": "stdout",
          "text": [
            "Assignment package created at: ds_LuvGoel\n",
            "- Merged CSV: ds_LuvGoel/csv_files/merged_data.csv\n",
            "- Daily Aggregates CSV: ds_LuvGoel/csv_files/daily_aggregates.csv\n",
            "- PDF Report: ds_LuvGoel/ds_report.pdf\n",
            "- Charts saved in: ds_LuvGoel/outputs\n"
          ]
        }
      ]
    }
  ]
}